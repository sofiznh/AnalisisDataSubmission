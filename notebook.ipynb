{
 "cells": [
  {
   "cell_type": "markdown",
   "metadata": {
    "id": "H9wADwK78DCz"
   },
   "source": [
    "# Proyek Analisis Data: Bike-sharing-dataset\n",
    "- **Nama:** Sofi Zamzanah\n",
    "- **Email:** a406xbm467@devacademy.id\n",
    "- **ID Dicoding:** a406xbm467"
   ]
  },
  {
   "cell_type": "markdown",
   "metadata": {
    "id": "eE0raob58DC0"
   },
   "source": [
    "## Menentukan Pertanyaan Bisnis"
   ]
  },
  {
   "cell_type": "markdown",
   "metadata": {
    "id": "GmQeQ5YF8DC0"
   },
   "source": [
    "- Pertanyaan 1 : bagaimana tren jumlah penyewaan sepeda per bulan?\n",
    "- Pertanyaan 2 : bagaimana pola penyewaan sepeda berdasarkan jam dalam sehari?\n",
    "- Pertanyaan 3 : bagaimana distribusi jumlah penyewa sepeda per musim (season)? (clustering)\n",
    "- Pertanyaan 4 : bagaimana distribusi jumlah penyewa sepeda per hari? (clustering)"
   ]
  },
  {
   "cell_type": "markdown",
   "metadata": {
    "id": "H-z4QGlO8DC1"
   },
   "source": [
    "## Import Semua Packages/Library yang Digunakan"
   ]
  },
  {
   "cell_type": "code",
   "execution_count": 1,
   "metadata": {
    "executionInfo": {
     "elapsed": 1,
     "status": "ok",
     "timestamp": 1741502223168,
     "user": {
      "displayName": "Harry Krisna",
      "userId": "04953680100275695258"
     },
     "user_tz": -420
    },
    "id": "FVYwaObI8DC1"
   },
   "outputs": [],
   "source": [
    "import numpy as np\n",
    "import pandas as pd\n",
    "import matplotlib.pyplot as plt\n",
    "import seaborn as sns"
   ]
  },
  {
   "cell_type": "markdown",
   "metadata": {
    "id": "h_Sh51Xy8DC1"
   },
   "source": [
    "## Data Wrangling"
   ]
  },
  {
   "cell_type": "markdown",
   "metadata": {
    "id": "sXU2GBYu8DC1"
   },
   "source": [
    "### Gathering Data"
   ]
  },
  {
   "cell_type": "code",
   "execution_count": 2,
   "metadata": {
    "colab": {
     "base_uri": "https://localhost:8080/"
    },
    "executionInfo": {
     "elapsed": 74,
     "status": "ok",
     "timestamp": 1741502223259,
     "user": {
      "displayName": "Harry Krisna",
      "userId": "04953680100275695258"
     },
     "user_tz": -420
    },
    "id": "zjCBk1BI8DC1",
    "outputId": "c295339d-c088-454a-a624-72609bf6ce8e"
   },
   "outputs": [
    {
     "name": "stdout",
     "output_type": "stream",
     "text": [
      "\n",
      "Daftar kolom pada df_bike_day:\n",
      "- instant\n",
      "- dteday\n",
      "- season\n",
      "- yr\n",
      "- mnth\n",
      "- holiday\n",
      "- weekday\n",
      "- workingday\n",
      "- weathersit\n",
      "- temp\n",
      "- atemp\n",
      "- hum\n",
      "- windspeed\n",
      "- casual\n",
      "- registered\n",
      "- cnt\n",
      "\n",
      "Daftar kolom pada df_bike_hour:\n",
      "- instant\n",
      "- dteday\n",
      "- season\n",
      "- yr\n",
      "- mnth\n",
      "- hr\n",
      "- holiday\n",
      "- weekday\n",
      "- workingday\n",
      "- weathersit\n",
      "- temp\n",
      "- atemp\n",
      "- hum\n",
      "- windspeed\n",
      "- casual\n",
      "- registered\n",
      "- cnt\n"
     ]
    }
   ],
   "source": [
    "df_bike_day = pd.read_csv('data/day.csv')\n",
    "print(\"\\nDaftar kolom pada df_bike_day:\")\n",
    "print(\"\\n\".join([f\"- {column}\" for column in df_bike_day.columns]))\n",
    "# df_bike_day.head(5)\n",
    "\n",
    "df_bike_hour = pd.read_csv('data/hour.csv')\n",
    "print(\"\\nDaftar kolom pada df_bike_hour:\")\n",
    "print(\"\\n\".join([f\"- {column}\" for column in df_bike_hour.columns]))\n",
    "# df_bike_hour.head(5)"
   ]
  },
  {
   "cell_type": "markdown",
   "metadata": {
    "id": "MMi6xGaDkbCi"
   },
   "source": [
    "**Insight:**\n",
    "- Dari kedua dataset yang tersedia, dapat diketahui data penyewaan sepeda pada tanggal tertentu\n",
    "- Perbedaan df_bike_day dan df_bike_hour hanya terletak pada kolom hr di dataset df_bike_day"
   ]
  },
  {
   "cell_type": "markdown",
   "metadata": {
    "id": "FHSiqaZp8DC1"
   },
   "source": [
    "### Assessing Data"
   ]
  },
  {
   "cell_type": "code",
   "execution_count": 3,
   "metadata": {
    "colab": {
     "base_uri": "https://localhost:8080/"
    },
    "executionInfo": {
     "elapsed": 14,
     "status": "ok",
     "timestamp": 1741502223260,
     "user": {
      "displayName": "Harry Krisna",
      "userId": "04953680100275695258"
     },
     "user_tz": -420
    },
    "id": "ax-3tEjc9Cj1",
    "outputId": "61b0eaae-606f-44b0-c3aa-cbe206ef90c8"
   },
   "outputs": [
    {
     "name": "stdout",
     "output_type": "stream",
     "text": [
      "----------------------------------------\n",
      "Dataset df_bike_day:\n",
      "\n",
      "- Informasi dataset:\n",
      "<class 'pandas.core.frame.DataFrame'>\n",
      "RangeIndex: 731 entries, 0 to 730\n",
      "Data columns (total 16 columns):\n",
      " #   Column      Non-Null Count  Dtype  \n",
      "---  ------      --------------  -----  \n",
      " 0   instant     731 non-null    int64  \n",
      " 1   dteday      731 non-null    object \n",
      " 2   season      731 non-null    int64  \n",
      " 3   yr          731 non-null    int64  \n",
      " 4   mnth        731 non-null    int64  \n",
      " 5   holiday     731 non-null    int64  \n",
      " 6   weekday     731 non-null    int64  \n",
      " 7   workingday  731 non-null    int64  \n",
      " 8   weathersit  731 non-null    int64  \n",
      " 9   temp        731 non-null    float64\n",
      " 10  atemp       731 non-null    float64\n",
      " 11  hum         731 non-null    float64\n",
      " 12  windspeed   731 non-null    float64\n",
      " 13  casual      731 non-null    int64  \n",
      " 14  registered  731 non-null    int64  \n",
      " 15  cnt         731 non-null    int64  \n",
      "dtypes: float64(4), int64(11), object(1)\n",
      "memory usage: 91.5+ KB\n",
      "None\n",
      "\n",
      "- Missing values per kolom:\n",
      "instant       0\n",
      "dteday        0\n",
      "season        0\n",
      "yr            0\n",
      "mnth          0\n",
      "holiday       0\n",
      "weekday       0\n",
      "workingday    0\n",
      "weathersit    0\n",
      "temp          0\n",
      "atemp         0\n",
      "hum           0\n",
      "windspeed     0\n",
      "casual        0\n",
      "registered    0\n",
      "cnt           0\n",
      "dtype: int64\n",
      "\n",
      "- Jumlah data duplikat berdasarkan ['dteday']:\n",
      "0\n",
      "\n",
      "----------------------------------------\n",
      "Dataset df_bike_hour:\n",
      "\n",
      "- Informasi dataset:\n",
      "<class 'pandas.core.frame.DataFrame'>\n",
      "RangeIndex: 17379 entries, 0 to 17378\n",
      "Data columns (total 17 columns):\n",
      " #   Column      Non-Null Count  Dtype  \n",
      "---  ------      --------------  -----  \n",
      " 0   instant     17379 non-null  int64  \n",
      " 1   dteday      17379 non-null  object \n",
      " 2   season      17379 non-null  int64  \n",
      " 3   yr          17379 non-null  int64  \n",
      " 4   mnth        17379 non-null  int64  \n",
      " 5   hr          17379 non-null  int64  \n",
      " 6   holiday     17379 non-null  int64  \n",
      " 7   weekday     17379 non-null  int64  \n",
      " 8   workingday  17379 non-null  int64  \n",
      " 9   weathersit  17379 non-null  int64  \n",
      " 10  temp        17379 non-null  float64\n",
      " 11  atemp       17379 non-null  float64\n",
      " 12  hum         17379 non-null  float64\n",
      " 13  windspeed   17379 non-null  float64\n",
      " 14  casual      17379 non-null  int64  \n",
      " 15  registered  17379 non-null  int64  \n",
      " 16  cnt         17379 non-null  int64  \n",
      "dtypes: float64(4), int64(12), object(1)\n",
      "memory usage: 2.3+ MB\n",
      "None\n",
      "\n",
      "- Missing values per kolom:\n",
      "instant       0\n",
      "dteday        0\n",
      "season        0\n",
      "yr            0\n",
      "mnth          0\n",
      "hr            0\n",
      "holiday       0\n",
      "weekday       0\n",
      "workingday    0\n",
      "weathersit    0\n",
      "temp          0\n",
      "atemp         0\n",
      "hum           0\n",
      "windspeed     0\n",
      "casual        0\n",
      "registered    0\n",
      "cnt           0\n",
      "dtype: int64\n",
      "\n",
      "- Jumlah data duplikat berdasarkan ['dteday', 'hr']:\n",
      "0\n",
      "\n"
     ]
    }
   ],
   "source": [
    "def check_dataset(df, name, dup_columns):\n",
    "    print(\"-\" * 40)\n",
    "    print(f\"{name}:\")\n",
    "    print(\"\\n- Informasi dataset:\")\n",
    "    print(df.info())\n",
    "    print(\"\\n- Missing values per kolom:\")\n",
    "    print(df.isnull().sum())\n",
    "    print(f\"\\n- Jumlah data duplikat berdasarkan {dup_columns}:\")\n",
    "    print(df.duplicated(subset=dup_columns).sum())\n",
    "    print()\n",
    "\n",
    "# Menampilkan informasi umum masing-masing dataset\n",
    "check_dataset(df_bike_day, \"Dataset df_bike_day\", ['dteday'])\n",
    "check_dataset(df_bike_hour, \"Dataset df_bike_hour\", ['dteday', 'hr'])"
   ]
  },
  {
   "cell_type": "markdown",
   "metadata": {
    "id": "7dtxhAPrkhPL"
   },
   "source": [
    "**Insight:**\n",
    "- Tidak ditemukan missing value pada kedua dataset\n",
    "- Tidak ditemukan duplicate data pada kedua dataset yang didasarkan pada kolom dteday (dan juga kolom hr pada dataset df_bike_hour)"
   ]
  },
  {
   "cell_type": "code",
   "execution_count": 4,
   "metadata": {},
   "outputs": [
    {
     "name": "stdout",
     "output_type": "stream",
     "text": [
      "- Distribusi nilai kategori df_bike_day:\n",
      "season: [1 2 3 4]\n",
      "yr: [0 1]\n",
      "mnth: [ 1  2  3  4  5  6  7  8  9 10 11 12]\n",
      "holiday: [0 1]\n",
      "weekday: [6 0 1 2 3 4 5]\n",
      "workingday: [0 1]\n",
      "weathersit: [2 1 3]\n",
      "\n",
      "- Distribusi nilai kategori df_bike_hour:\n",
      "season: [1 2 3 4]\n",
      "yr: [0 1]\n",
      "mnth: [ 1  2  3  4  5  6  7  8  9 10 11 12]\n",
      "hr: [ 0  1  2  3  4  5  6  7  8  9 10 11 12 13 14 15 16 17 18 19 20 21 22 23]\n",
      "holiday: [0 1]\n",
      "weekday: [6 0 1 2 3 4 5]\n",
      "workingday: [0 1]\n",
      "weathersit: [1 2 3 4]\n"
     ]
    }
   ],
   "source": [
    "# Explore Distribusi Nilai Kategori\n",
    "print(\"- Distribusi nilai kategori df_bike_day:\")\n",
    "kategori_cols = ['season', 'yr', 'mnth', 'holiday', 'weekday', 'workingday', 'weathersit']\n",
    "for col in kategori_cols:\n",
    "    print(f\"{col}: {df_bike_day[col].unique()}\")\n",
    "\n",
    "print(\"\\n- Distribusi nilai kategori df_bike_hour:\")\n",
    "kategori_cols = ['season', 'yr', 'mnth', 'hr', 'holiday', 'weekday', 'workingday', 'weathersit']\n",
    "for col in kategori_cols:\n",
    "    print(f\"{col}: {df_bike_hour[col].unique()}\")"
   ]
  },
  {
   "cell_type": "code",
   "execution_count": 5,
   "metadata": {},
   "outputs": [
    {
     "name": "stdout",
     "output_type": "stream",
     "text": [
      "\n",
      "- Validasi tahun pada kolom yr dengan tahun pada kolom dteday df_bike_day:\n",
      "Index([], dtype='int64')\n",
      "\n",
      "- Validasi tahun pada kolom yr dengan tahun pada kolom dteday df_bike_hour:\n",
      "Index([], dtype='int64')\n"
     ]
    }
   ],
   "source": [
    "# Explore Validasi Kolom Tahun\n",
    "def validate_year_column(df, name):\n",
    "    print(f\"\\n- Validasi tahun pada kolom yr dengan tahun pada kolom dteday {name}:\")\n",
    "    df['year_from_dteday'] = pd.to_datetime(df['dteday']).dt.year\n",
    "    df['yr_actual'] = df['yr'].astype(int) + 2011\n",
    "    mismatch = df[df['year_from_dteday'] != df['yr_actual']]\n",
    "    print(mismatch.index)\n",
    "\n",
    "# Validasi tahun pada kolom yr dengan tahun pada kolom dteday\n",
    "validate_year_column(df_bike_day, \"df_bike_day\")\n",
    "validate_year_column(df_bike_hour, \"df_bike_hour\")"
   ]
  },
  {
   "cell_type": "markdown",
   "metadata": {},
   "source": [
    "**Insight:**\n",
    "- Tidak ditemukan invalid value pada kolom dengan nilai kategori pada kedua dataset\n",
    "- Tidak ditemukan mismatch pada tahun dari kolom yr dengan tahun dari kolom dteday"
   ]
  },
  {
   "cell_type": "markdown",
   "metadata": {
    "id": "EhN5R4hr8DC1"
   },
   "source": [
    "### Cleaning Data"
   ]
  },
  {
   "cell_type": "code",
   "execution_count": 6,
   "metadata": {
    "colab": {
     "base_uri": "https://localhost:8080/"
    },
    "executionInfo": {
     "elapsed": 38,
     "status": "ok",
     "timestamp": 1741502223286,
     "user": {
      "displayName": "Harry Krisna",
      "userId": "04953680100275695258"
     },
     "user_tz": -420
    },
    "id": "jVnYpprE9Evz",
    "outputId": "4d97c7da-19f6-4cab-c34a-62a03e8edfc1"
   },
   "outputs": [
    {
     "name": "stdout",
     "output_type": "stream",
     "text": [
      "----------------------------------------\n",
      "Dataset df_bike_day:\n",
      "\n",
      "- Missing values:\n",
      "instant             0\n",
      "dteday              0\n",
      "season              0\n",
      "yr                  0\n",
      "mnth                0\n",
      "holiday             0\n",
      "weekday             0\n",
      "workingday          0\n",
      "weathersit          0\n",
      "temp                0\n",
      "atemp               0\n",
      "hum                 0\n",
      "windspeed           0\n",
      "casual              0\n",
      "registered          0\n",
      "cnt                 0\n",
      "year_from_dteday    0\n",
      "yr_actual           0\n",
      "dtype: int64\n",
      "\n",
      "- Info dataset:\n",
      "<class 'pandas.core.frame.DataFrame'>\n",
      "RangeIndex: 731 entries, 0 to 730\n",
      "Data columns (total 18 columns):\n",
      " #   Column            Non-Null Count  Dtype         \n",
      "---  ------            --------------  -----         \n",
      " 0   instant           731 non-null    int64         \n",
      " 1   dteday            731 non-null    datetime64[ns]\n",
      " 2   season            731 non-null    category      \n",
      " 3   yr                731 non-null    int64         \n",
      " 4   mnth              731 non-null    int64         \n",
      " 5   holiday           731 non-null    category      \n",
      " 6   weekday           731 non-null    category      \n",
      " 7   workingday        731 non-null    category      \n",
      " 8   weathersit        731 non-null    category      \n",
      " 9   temp              731 non-null    float64       \n",
      " 10  atemp             731 non-null    float64       \n",
      " 11  hum               731 non-null    float64       \n",
      " 12  windspeed         731 non-null    float64       \n",
      " 13  casual            731 non-null    int64         \n",
      " 14  registered        731 non-null    int64         \n",
      " 15  cnt               731 non-null    int64         \n",
      " 16  year_from_dteday  731 non-null    int32         \n",
      " 17  yr_actual         731 non-null    int64         \n",
      "dtypes: category(5), datetime64[ns](1), float64(4), int32(1), int64(7)\n",
      "memory usage: 76.0 KB\n",
      "None\n",
      "\n",
      "----------------------------------------\n",
      "Dataset df_bike_hour:\n",
      "\n",
      "- Missing values:\n",
      "instant             0\n",
      "dteday              0\n",
      "season              0\n",
      "yr                  0\n",
      "mnth                0\n",
      "hr                  0\n",
      "holiday             0\n",
      "weekday             0\n",
      "workingday          0\n",
      "weathersit          0\n",
      "temp                0\n",
      "atemp               0\n",
      "hum                 0\n",
      "windspeed           0\n",
      "casual              0\n",
      "registered          0\n",
      "cnt                 0\n",
      "year_from_dteday    0\n",
      "yr_actual           0\n",
      "dtype: int64\n",
      "\n",
      "- Info dataset:\n",
      "<class 'pandas.core.frame.DataFrame'>\n",
      "RangeIndex: 17379 entries, 0 to 17378\n",
      "Data columns (total 19 columns):\n",
      " #   Column            Non-Null Count  Dtype         \n",
      "---  ------            --------------  -----         \n",
      " 0   instant           17379 non-null  int64         \n",
      " 1   dteday            17379 non-null  datetime64[ns]\n",
      " 2   season            17379 non-null  category      \n",
      " 3   yr                17379 non-null  int64         \n",
      " 4   mnth              17379 non-null  int64         \n",
      " 5   hr                17379 non-null  int64         \n",
      " 6   holiday           17379 non-null  category      \n",
      " 7   weekday           17379 non-null  category      \n",
      " 8   workingday        17379 non-null  category      \n",
      " 9   weathersit        17379 non-null  category      \n",
      " 10  temp              17379 non-null  float64       \n",
      " 11  atemp             17379 non-null  float64       \n",
      " 12  hum               17379 non-null  float64       \n",
      " 13  windspeed         17379 non-null  float64       \n",
      " 14  casual            17379 non-null  int64         \n",
      " 15  registered        17379 non-null  int64         \n",
      " 16  cnt               17379 non-null  int64         \n",
      " 17  year_from_dteday  17379 non-null  int32         \n",
      " 18  yr_actual         17379 non-null  int64         \n",
      "dtypes: category(5), datetime64[ns](1), float64(4), int32(1), int64(8)\n",
      "memory usage: 1.9 MB\n",
      "None\n",
      "\n"
     ]
    }
   ],
   "source": [
    "# Menghapus duplikasi jika ada\n",
    "df_bike_day = df_bike_day.drop_duplicates(subset=['dteday'])\n",
    "df_bike_hour = df_bike_hour.drop_duplicates(subset=['dteday', 'hr'])\n",
    "\n",
    "# Mengonversi kolom tanggal ke tipe datetime\n",
    "df_bike_day['dteday'] = pd.to_datetime(df_bike_day['dteday'])\n",
    "df_bike_hour['dteday'] = pd.to_datetime(df_bike_hour['dteday'])\n",
    "\n",
    "# Mengonversi beberapa kolom menjadi kategori untuk efisiensi memori\n",
    "categorical_columns = ['season', 'holiday', 'weekday', 'workingday', 'weathersit']\n",
    "for col in categorical_columns:\n",
    "    df_bike_day[col] = df_bike_day[col].astype('category')\n",
    "    df_bike_hour[col] = df_bike_hour[col].astype('category')\n",
    "\n",
    "# Menampilkan ringkasan setelah cleaning\n",
    "def check_cleaning(df, name):\n",
    "    print('-'*40)\n",
    "    print(f'{name}:')\n",
    "    print(\"\\n- Missing values:\")\n",
    "    print(df.isnull().sum())\n",
    "    print(\"\\n- Info dataset:\")\n",
    "    print(df.info())\n",
    "    print()\n",
    "\n",
    "check_cleaning(df_bike_day, \"Dataset df_bike_day\")\n",
    "check_cleaning(df_bike_hour, \"Dataset df_bike_hour\")"
   ]
  },
  {
   "cell_type": "markdown",
   "metadata": {
    "id": "Q_5ejIqckiSP"
   },
   "source": [
    "**Insight:**\n",
    "- Penghapusan duplikasi data sudah dilakukan (jika ada)\n",
    "- Kolom tanggal sudah dikonversi ke tipe datetime\n",
    "- Beberapa kolom dengan data kategori sudah dikonversi menjadi tipe category"
   ]
  },
  {
   "cell_type": "markdown",
   "metadata": {
    "id": "gp-Y6wU38DC1"
   },
   "source": [
    "## Exploratory Data Analysis (EDA)"
   ]
  },
  {
   "cell_type": "markdown",
   "metadata": {
    "id": "6L4Voz2lR1Vn"
   },
   "source": [
    "### Explore Statistik Dasar"
   ]
  },
  {
   "cell_type": "code",
   "execution_count": 7,
   "metadata": {
    "colab": {
     "base_uri": "https://localhost:8080/"
    },
    "executionInfo": {
     "elapsed": 47,
     "status": "ok",
     "timestamp": 1741502223335,
     "user": {
      "displayName": "Harry Krisna",
      "userId": "04953680100275695258"
     },
     "user_tz": -420
    },
    "id": "e9CQCZjk8DC2",
    "outputId": "695a4149-6f5e-4db9-e1f2-5ceb7573d935"
   },
   "outputs": [
    {
     "name": "stdout",
     "output_type": "stream",
     "text": [
      "- Statistik dasar df_bike_day:\n",
      "          instant               dteday          yr        mnth        temp  \\\n",
      "count  731.000000                  731  731.000000  731.000000  731.000000   \n",
      "mean   366.000000  2012-01-01 00:00:00    0.500684    6.519836    0.495385   \n",
      "min      1.000000  2011-01-01 00:00:00    0.000000    1.000000    0.059130   \n",
      "25%    183.500000  2011-07-02 12:00:00    0.000000    4.000000    0.337083   \n",
      "50%    366.000000  2012-01-01 00:00:00    1.000000    7.000000    0.498333   \n",
      "75%    548.500000  2012-07-01 12:00:00    1.000000   10.000000    0.655417   \n",
      "max    731.000000  2012-12-31 00:00:00    1.000000   12.000000    0.861667   \n",
      "std    211.165812                  NaN    0.500342    3.451913    0.183051   \n",
      "\n",
      "            atemp         hum   windspeed       casual   registered  \\\n",
      "count  731.000000  731.000000  731.000000   731.000000   731.000000   \n",
      "mean     0.474354    0.627894    0.190486   848.176471  3656.172367   \n",
      "min      0.079070    0.000000    0.022392     2.000000    20.000000   \n",
      "25%      0.337842    0.520000    0.134950   315.500000  2497.000000   \n",
      "50%      0.486733    0.626667    0.180975   713.000000  3662.000000   \n",
      "75%      0.608602    0.730209    0.233214  1096.000000  4776.500000   \n",
      "max      0.840896    0.972500    0.507463  3410.000000  6946.000000   \n",
      "std      0.162961    0.142429    0.077498   686.622488  1560.256377   \n",
      "\n",
      "               cnt  year_from_dteday    yr_actual  \n",
      "count   731.000000        731.000000   731.000000  \n",
      "mean   4504.348837       2011.500684  2011.500684  \n",
      "min      22.000000       2011.000000  2011.000000  \n",
      "25%    3152.000000       2011.000000  2011.000000  \n",
      "50%    4548.000000       2012.000000  2012.000000  \n",
      "75%    5956.000000       2012.000000  2012.000000  \n",
      "max    8714.000000       2012.000000  2012.000000  \n",
      "std    1937.211452          0.500342     0.500342  \n",
      "\n",
      "- Statistik dasar df_bike_hour:\n",
      "          instant                         dteday            yr          mnth  \\\n",
      "count  17379.0000                          17379  17379.000000  17379.000000   \n",
      "mean    8690.0000  2012-01-02 04:08:34.552045568      0.502561      6.537775   \n",
      "min        1.0000            2011-01-01 00:00:00      0.000000      1.000000   \n",
      "25%     4345.5000            2011-07-04 00:00:00      0.000000      4.000000   \n",
      "50%     8690.0000            2012-01-02 00:00:00      1.000000      7.000000   \n",
      "75%    13034.5000            2012-07-02 00:00:00      1.000000     10.000000   \n",
      "max    17379.0000            2012-12-31 00:00:00      1.000000     12.000000   \n",
      "std     5017.0295                            NaN      0.500008      3.438776   \n",
      "\n",
      "                 hr          temp         atemp           hum     windspeed  \\\n",
      "count  17379.000000  17379.000000  17379.000000  17379.000000  17379.000000   \n",
      "mean      11.546752      0.496987      0.475775      0.627229      0.190098   \n",
      "min        0.000000      0.020000      0.000000      0.000000      0.000000   \n",
      "25%        6.000000      0.340000      0.333300      0.480000      0.104500   \n",
      "50%       12.000000      0.500000      0.484800      0.630000      0.194000   \n",
      "75%       18.000000      0.660000      0.621200      0.780000      0.253700   \n",
      "max       23.000000      1.000000      1.000000      1.000000      0.850700   \n",
      "std        6.914405      0.192556      0.171850      0.192930      0.122340   \n",
      "\n",
      "             casual    registered           cnt  year_from_dteday  \\\n",
      "count  17379.000000  17379.000000  17379.000000      17379.000000   \n",
      "mean      35.676218    153.786869    189.463088       2011.502561   \n",
      "min        0.000000      0.000000      1.000000       2011.000000   \n",
      "25%        4.000000     34.000000     40.000000       2011.000000   \n",
      "50%       17.000000    115.000000    142.000000       2012.000000   \n",
      "75%       48.000000    220.000000    281.000000       2012.000000   \n",
      "max      367.000000    886.000000    977.000000       2012.000000   \n",
      "std       49.305030    151.357286    181.387599          0.500008   \n",
      "\n",
      "          yr_actual  \n",
      "count  17379.000000  \n",
      "mean    2011.502561  \n",
      "min     2011.000000  \n",
      "25%     2011.000000  \n",
      "50%     2012.000000  \n",
      "75%     2012.000000  \n",
      "max     2012.000000  \n",
      "std        0.500008  \n"
     ]
    }
   ],
   "source": [
    "print(\"- Statistik dasar df_bike_day:\")\n",
    "print(df_bike_day.describe())\n",
    "\n",
    "print(\"\\n- Statistik dasar df_bike_hour:\")\n",
    "print(df_bike_hour.describe())"
   ]
  },
  {
   "cell_type": "markdown",
   "metadata": {},
   "source": [
    "### Analisis korelasi data"
   ]
  },
  {
   "cell_type": "code",
   "execution_count": 8,
   "metadata": {},
   "outputs": [
    {
     "name": "stdout",
     "output_type": "stream",
     "text": [
      "      Registered Users  Total Rental Bikes\n",
      "mnth                                      \n",
      "Jan             122891              134933\n",
      "Feb             136389              151352\n",
      "Mar             184476              228920\n",
      "Apr             208292              269094\n",
      "May             256401              331686\n",
      "Jun             272436              346342\n",
      "Jul             266791              344948\n",
      "Aug             279155              351194\n",
      "Sep             275668              345991\n",
      "Oct             262592              322352\n",
      "Nov             218228              254831\n",
      "Dec             189343              211036\n"
     ]
    }
   ],
   "source": [
    "# Jumlah penyewaan perbulan\n",
    "month_names = {\n",
    "    1: \"Jan\", 2: \"Feb\", 3: \"Mar\", 4: \"Apr\", 5: \"May\", 6: \"Jun\",\n",
    "    7: \"Jul\", 8: \"Aug\", 9: \"Sep\", 10: \"Oct\", 11: \"Nov\", 12: \"Dec\"\n",
    "}\n",
    "monthly_counts = (\n",
    "    df_bike_day.groupby('mnth')[['registered', 'cnt']].sum()\n",
    "    .rename(columns={'registered': 'Registered Users', 'cnt': 'Total Rental Bikes'})\n",
    ")\n",
    "monthly_counts.index = monthly_counts.index.map(month_names)\n",
    "print (monthly_counts)"
   ]
  },
  {
   "cell_type": "code",
   "execution_count": 9,
   "metadata": {},
   "outputs": [
    {
     "name": "stdout",
     "output_type": "stream",
     "text": [
      "         Registered Users  Total Rental Bikes\n",
      "weekday                                      \n",
      "Mon                303506              444027\n",
      "Tue                384719              455503\n",
      "Wed                411266              469109\n",
      "Thu                415729              473048\n",
      "Fri                423935              485395\n",
      "Sat                409552              487790\n",
      "Sun                323955              477807\n"
     ]
    }
   ],
   "source": [
    "# Jumlah penyewaan pehari\n",
    "day_names = {\n",
    "    0: \"Mon\", 1: \"Tue\", 2: \"Wed\", 3: \"Thu\", 4: \"Fri\", 5: \"Sat\", 6: \"Sun\" \n",
    "}\n",
    "daily_counts = (\n",
    "    df_bike_day.groupby('weekday', observed=True)[['registered', 'cnt']].sum()\n",
    "    .rename(columns={'registered': 'Registered Users', 'cnt': 'Total Rental Bikes'})\n",
    ")\n",
    "daily_counts.index = daily_counts.index.map(day_names)\n",
    "print (daily_counts)"
   ]
  },
  {
   "cell_type": "code",
   "execution_count": 10,
   "metadata": {},
   "outputs": [
    {
     "name": "stdout",
     "output_type": "stream",
     "text": [
      "hr\n",
      "0      53.898072\n",
      "1      33.375691\n",
      "2      22.869930\n",
      "3      11.727403\n",
      "4       6.352941\n",
      "5      19.889819\n",
      "6      76.044138\n",
      "7     212.064649\n",
      "8     359.011004\n",
      "9     219.309491\n",
      "10    173.668501\n",
      "11    208.143054\n",
      "12    253.315934\n",
      "13    253.661180\n",
      "14    240.949246\n",
      "15    251.233196\n",
      "16    311.983562\n",
      "17    461.452055\n",
      "18    425.510989\n",
      "19    311.523352\n",
      "20    226.030220\n",
      "21    172.314560\n",
      "22    131.335165\n",
      "23     87.831044\n",
      "Name: cnt, dtype: float64\n"
     ]
    }
   ],
   "source": [
    "# Rata-rata penyewaan perjam\n",
    "hourly_counts = df_bike_hour.groupby('hr')['cnt'].mean()\n",
    "print(hourly_counts)"
   ]
  },
  {
   "cell_type": "code",
   "execution_count": 11,
   "metadata": {},
   "outputs": [
    {
     "name": "stdout",
     "output_type": "stream",
     "text": [
      "          Registered Users  Total Rental Bikes\n",
      "season                                        \n",
      "springer            410726              471348\n",
      "summer              715067              918589\n",
      "fall                835038             1061129\n",
      "winter              711831              841613\n"
     ]
    }
   ],
   "source": [
    "# Jumlah penyewaan permusim\n",
    "season_names = {\n",
    "    1: \"springer\", 2: \"summer\", 3: \"fall\", 4: \"winter\" \n",
    "}\n",
    "season_counts = (\n",
    "    df_bike_day.groupby('season', observed=True)[['registered', 'cnt']].sum()\n",
    "    .rename(columns={'registered': 'Registered Users', 'cnt': 'Total Rental Bikes'})\n",
    ")\n",
    "season_counts.index = season_counts.index.map(season_names)\n",
    "print (season_counts)"
   ]
  },
  {
   "cell_type": "markdown",
   "metadata": {},
   "source": [
    "**Insight:**\n",
    "- Terdapat tren dari jumlah penyewaan sepeda perbulan dan pola pada rata-rata penyewaan per jam\n",
    "- Waktu, hari, bulan, dan musim mempengaruhi jumlah penyewaan sepeda"
   ]
  },
  {
   "cell_type": "markdown",
   "metadata": {
    "id": "zsyZjqak8DC2"
   },
   "source": [
    "## Visualization & Explanatory Analysis"
   ]
  },
  {
   "cell_type": "markdown",
   "metadata": {
    "id": "HZxOiQ6n8DC2"
   },
   "source": [
    "### Pertanyaan 1: bagaimana tren jumlah penyewaan sepeda per bulan?"
   ]
  },
  {
   "cell_type": "code",
   "execution_count": 12,
   "metadata": {
    "colab": {
     "base_uri": "https://localhost:8080/",
     "height": 737
    },
    "executionInfo": {
     "elapsed": 589,
     "status": "ok",
     "timestamp": 1741502223998,
     "user": {
      "displayName": "Harry Krisna",
      "userId": "04953680100275695258"
     },
     "user_tz": -420
    },
    "id": "1swJUdAD8DC2",
    "outputId": "f426d338-0f92-4aba-a3aa-734a9d85c9af"
   },
   "outputs": [
    {
     "name": "stdout",
     "output_type": "stream",
     "text": [
      "Urutan bulan berdasarkan jumlah penyewaan terbanyak: \n",
      "- Aug : 351194 unit\n",
      "- Jun : 346342 unit\n",
      "- Sep : 345991 unit\n",
      "- Jul : 344948 unit\n",
      "- May : 331686 unit\n",
      "- Oct : 322352 unit\n",
      "- Apr : 269094 unit\n",
      "- Nov : 254831 unit\n",
      "- Mar : 228920 unit\n",
      "- Dec : 211036 unit\n",
      "- Feb : 151352 unit\n",
      "- Jan : 134933 unit\n",
      "\n"
     ]
    },
    {
     "data": {
      "image/png": "[encoded data removed]",
      "text/plain": [
       "<Figure size 1000x500 with 1 Axes>"
      ]
     },
     "metadata": {},
     "output_type": "display_data"
    }
   ],
   "source": [
    "# Print urutan bulan berdasarkan jumlah penyewaan terbanyak\n",
    "monthly_counts_sorted = monthly_counts[['Total Rental Bikes']].sort_values(by='Total Rental Bikes', ascending=False)\n",
    "\n",
    "print(\"Urutan bulan berdasarkan jumlah penyewaan terbanyak: \")\n",
    "for month, count in monthly_counts_sorted['Total Rental Bikes'].items():\n",
    "    print(f\"- {month} : {count} unit\")\n",
    "print()\n",
    "\n",
    "# Plot data jumlah penyewaan per bulan\n",
    "plt.figure(figsize=(10, 5))\n",
    "sns.lineplot(x=monthly_counts.index, y=monthly_counts['Total Rental Bikes'], marker='o', linewidth=2.5)\n",
    "plt.xlabel(\"Month\")\n",
    "plt.ylabel(\"Total Rental Bikes\")\n",
    "plt.title(\"Bike Sharing Trends per Month\")\n",
    "plt.grid(True)\n",
    "plt.show()"
   ]
  },
  {
   "cell_type": "markdown",
   "metadata": {},
   "source": [
    "**Insight:**\n",
    "- 3 bulan paling banyak dilakukannya penyewaan sepeda adalah pada bulan Agustus, Juni, dan September\n",
    "- 3 bulan paling sedikit dilakukannya penyewaan sepeda adalah pada bulan Januari, Februari, dan Desember"
   ]
  },
  {
   "cell_type": "markdown",
   "metadata": {
    "id": "DgHI7CiU8DC2"
   },
   "source": [
    "### Pertanyaan 2: bagaimana pola penyewaan sepeda berdasarkan jam dalam sehari?"
   ]
  },
  {
   "cell_type": "code",
   "execution_count": 13,
   "metadata": {
    "colab": {
     "base_uri": "https://localhost:8080/",
     "height": 975
    },
    "executionInfo": {
     "elapsed": 260,
     "status": "ok",
     "timestamp": 1741502224258,
     "user": {
      "displayName": "Harry Krisna",
      "userId": "04953680100275695258"
     },
     "user_tz": -420
    },
    "id": "Go0lCsvO8DC2",
    "outputId": "a3bc8378-38c6-4268-b842-314c220218c7"
   },
   "outputs": [
    {
     "name": "stdout",
     "output_type": "stream",
     "text": [
      "Urutan jam berdasarkan rata-rata penyewaan terbanyak:\n",
      "- 17:00 : 461.45 unit\n",
      "- 18:00 : 425.51 unit\n",
      "- 08:00 : 359.01 unit\n",
      "- 16:00 : 311.98 unit\n",
      "- 19:00 : 311.52 unit\n",
      "- 13:00 : 253.66 unit\n",
      "- 12:00 : 253.32 unit\n",
      "- 15:00 : 251.23 unit\n",
      "- 14:00 : 240.95 unit\n",
      "- 20:00 : 226.03 unit\n",
      "- 09:00 : 219.31 unit\n",
      "- 07:00 : 212.06 unit\n",
      "- 11:00 : 208.14 unit\n",
      "- 10:00 : 173.67 unit\n",
      "- 21:00 : 172.31 unit\n",
      "- 22:00 : 131.34 unit\n",
      "- 23:00 : 87.83 unit\n",
      "- 06:00 : 76.04 unit\n",
      "- 00:00 : 53.90 unit\n",
      "- 01:00 : 33.38 unit\n",
      "- 02:00 : 22.87 unit\n",
      "- 05:00 : 19.89 unit\n",
      "- 03:00 : 11.73 unit\n",
      "- 04:00 : 6.35 unit\n",
      "\n"
     ]
    },
    {
     "data": {
      "image/png": "[encoded data removed]",
      "text/plain": [
       "<Figure size 1000x500 with 1 Axes>"
      ]
     },
     "metadata": {},
     "output_type": "display_data"
    }
   ],
   "source": [
    "# Print urutan jam berdasarkan rata-rata penyewaan tertinggi\n",
    "hourly_counts_sorted = hourly_counts.sort_values(ascending=False)\n",
    "\n",
    "print(\"Urutan jam berdasarkan rata-rata penyewaan terbanyak:\")\n",
    "for hour, count in hourly_counts_sorted.items():\n",
    "    print(f\"- {hour:02d}:00 : {count:.2f} unit\")\n",
    "print()\n",
    "\n",
    "# Plot data jumlah penyewaan per jam\n",
    "plt.figure(figsize=(10, 5))\n",
    "sns.lineplot(x=hourly_counts.index, y=hourly_counts.values, marker='o', linewidth=2.5)\n",
    "plt.xticks(range(0, 24), labels=[f\"{h:02d}:00\" for h in range(0, 24)], rotation=45)\n",
    "plt.xlabel(\"Hour\")\n",
    "plt.ylabel(\"Average Rental Bikes\")\n",
    "plt.title(\"Average Bike Sharing per Hour\")\n",
    "plt.grid(True)\n",
    "plt.show()\n"
   ]
  },
  {
   "cell_type": "markdown",
   "metadata": {
    "id": "_0-36BDLklRg"
   },
   "source": [
    "**Insight:**\n",
    "- 3 waktu paling banyak dilakukannya penyewaan sepeda adalah pada pukul 17:00, 18:00, dan 08:00\n",
    "- 3 waktu paling sedikit dilakukannya penyewaan sepeda adalah pada pukul 04:00, 03:00, dan 05:00"
   ]
  },
  {
   "cell_type": "markdown",
   "metadata": {
    "id": "9y4VUsmcYNZ5"
   },
   "source": [
    "## Analisis Lanjutan (Opsional)"
   ]
  },
  {
   "cell_type": "markdown",
   "metadata": {},
   "source": [
    "### Pertanyaan 3 : bagaimana distribusi jumlah penyewa sepeda per musim (season)? (clustering)"
   ]
  },
  {
   "cell_type": "code",
   "execution_count": 14,
   "metadata": {
    "executionInfo": {
     "elapsed": 9,
     "status": "ok",
     "timestamp": 1741502224266,
     "user": {
      "displayName": "Harry Krisna",
      "userId": "04953680100275695258"
     },
     "user_tz": -420
    },
    "id": "iWhnzsJGYUCO"
   },
   "outputs": [
    {
     "name": "stdout",
     "output_type": "stream",
     "text": [
      "Urutan musim berdasarkan jumlah penyewaan terbanyak: \n",
      "- fall : 1061129 unit\n",
      "- summer : 918589 unit\n",
      "- winter : 841613 unit\n",
      "- springer : 471348 unit\n",
      "\n"
     ]
    },
    {
     "data": {
      "image/png": "[encoded data removed]",
      "text/plain": [
       "<Figure size 1000x500 with 1 Axes>"
      ]
     },
     "metadata": {},
     "output_type": "display_data"
    }
   ],
   "source": [
    "season_counts_sorted = season_counts[['Total Rental Bikes']].sort_values(by='Total Rental Bikes', ascending=False)\n",
    "\n",
    "print(\"Urutan musim berdasarkan jumlah penyewaan terbanyak: \")\n",
    "for season, count in season_counts_sorted['Total Rental Bikes'].items():\n",
    "    print(f\"- {season} : {count} unit\")\n",
    "print()\n",
    "\n",
    "# Plot data jumlah penyewaan per bulan\n",
    "plt.figure(figsize=(10, 5))\n",
    "sns.barplot(x=season_counts.index, y=season_counts['Total Rental Bikes'], color=\"#1f77b4\")\n",
    "plt.xlabel(\"Season\")\n",
    "plt.ylabel(\"Total Rental Bikes\")\n",
    "plt.ticklabel_format(style='plain', axis='y')\n",
    "plt.title(\"Total Bike Sharing per Season\")\n",
    "plt.grid(axis=\"y\", linestyle=\"--\", alpha=0.7)\n",
    "plt.show()"
   ]
  },
  {
   "cell_type": "markdown",
   "metadata": {},
   "source": [
    "**Insight:**\n",
    "- Penyewaan sepeda dapat dikelompokkan (clustering) berdasarkan musim yang terjadi\n",
    "- Musim dengan penyewaan terbanyak terjadi pada musim gugur\n",
    "- Musim dengan penyewaan paling sedikit terjadi pada musim semi"
   ]
  },
  {
   "cell_type": "markdown",
   "metadata": {},
   "source": [
    "### Pertanyaan 4 : bagaimana distribusi jumlah penyewa sepeda per hari? (clustering)"
   ]
  },
  {
   "cell_type": "code",
   "execution_count": 15,
   "metadata": {},
   "outputs": [
    {
     "name": "stdout",
     "output_type": "stream",
     "text": [
      "Urutan musim berdasarkan jumlah penyewaan terbanyak: \n",
      "- Sat : 487790 unit\n",
      "- Fri : 485395 unit\n",
      "- Sun : 477807 unit\n",
      "- Thu : 473048 unit\n",
      "- Wed : 469109 unit\n",
      "- Tue : 455503 unit\n",
      "- Mon : 444027 unit\n",
      "\n"
     ]
    },
    {
     "data": {
      "image/png": "[encoded data removed]",
      "text/plain": [
       "<Figure size 1000x500 with 1 Axes>"
      ]
     },
     "metadata": {},
     "output_type": "display_data"
    }
   ],
   "source": [
    "daily_counts_sorted = daily_counts[['Total Rental Bikes']].sort_values(by='Total Rental Bikes', ascending=False)\n",
    "\n",
    "print(\"Urutan musim berdasarkan jumlah penyewaan terbanyak: \")\n",
    "for day, count in daily_counts_sorted['Total Rental Bikes'].items():\n",
    "    print(f\"- {day} : {count} unit\")\n",
    "print()\n",
    "\n",
    "# Plot data jumlah penyewaan per bulan\n",
    "plt.figure(figsize=(10, 5))\n",
    "sns.barplot(x=daily_counts.index, y=daily_counts['Total Rental Bikes'], color=\"#1f77b4\")\n",
    "plt.xlabel(\"Day\")\n",
    "plt.ylabel(\"Total Rental Bikes\")\n",
    "plt.ticklabel_format(style='plain', axis='y')\n",
    "plt.title(\"Total Daily Bike Sharing\")\n",
    "plt.grid(axis=\"y\", linestyle=\"--\", alpha=0.7)\n",
    "plt.show()"
   ]
  },
  {
   "cell_type": "markdown",
   "metadata": {},
   "source": [
    "**Insight:**\n",
    "- Penyewaan sepeda dapat dikelompokkan (clustering) berdasarkan hari penyewaan\n",
    "- Hari dengan penyewaan terbanyak terjadi pada hari Sabtu\n",
    "- Hari dengan penyewaan paling sedikit terjadi pada hari Senin"
   ]
  },
  {
   "cell_type": "markdown",
   "metadata": {
    "id": "_WeHlCeX8DC2"
   },
   "source": [
    "## Conclusion"
   ]
  },
  {
   "cell_type": "markdown",
   "metadata": {
    "id": "ZTcyR48Y8DC2"
   },
   "source": [
    "- 3 bulan paling banyak dilakukannya penyewaan sepeda adalah pada bulan Agustus, Juni, dan September. Sementara itu, 3 bulan paling sedikit dilakukannya penyewaan sepeda adalah pada bulan Januari, Februari, dan Desember.\n",
    "- 3 waktu paling banyak dilakukannya penyewaan sepeda adalah pada pukul 17:00, 18:00, dan 08:00. Sementara itu, 3 waktu paling sedikit dilakukannya penyewaan sepeda adalah pada pukul 04:00, 03:00, dan 05:00.\n",
    "- Musim dengan penyewaan paling banyak terjadi pada musim gugur, sedangkan paling sedikit penyewaan terjadi pada musim semi.\n",
    "- Hari dengan paling banyak penyewaan adalah hari Sabtu, dan paling sedikit penyewaan terjadi pada hari Senin.\n",
    "\n",
    "Kesimpulan : Berdasarkan analisis data yang dilakukan, penyewaan sepeda paling banyak terjadi di Musim Gugur yaitu sekitar pada bulan Juni akhir hingga Bulan September pertengahan. Sedangkan jumlah penyewaan paling sedikit terjadi pada Musim Semi, yaitu sekitar pada akhir bulan Desember hingga pertengahan bulan Maret. Namun, apabila dilihat dari bulannya, penyewaan tertinggi terjadi pada bulan Agustus, Juni, dan September sedangkan peyewaan paling sedikit terjadi pada bulan Januari, Februari, dan Desember. Hari juga mempengaruhi jumlah penyewaan. Penyewaan paling banyak terjadi ketika weekend yaitu sekitar hari Sabtu, Jumat, dan Minggu. Sedangkan penyewaan cenderung lebih sedikit ketika hari kerja seperti Senin, Selasa, dan Rabu. Apabila ditinjau dari waktu penyewaan, rerata penyewaan paling banyak dilakukan pada pukul 17:00, 18:00, dan 08:00 dan rerata penyewaan paling sedikit terjadi pada pukul 04:00, 03:00, dan 05:00."
   ]
  }
 ],
 "metadata": {
  "colab": {
   "provenance": []
  },
  "kernelspec": {
   "display_name": "Python 3",
   "language": "python",
   "name": "python3"
  },
  "language_info": {
   "codemirror_mode": {
    "name": "ipython",
    "version": 3
   },
   "file_extension": ".py",
   "mimetype": "text/x-python",
   "name": "python",
   "nbconvert_exporter": "python",
   "pygments_lexer": "ipython3",
   "version": "3.13.2"
  },
  "orig_nbformat": 4,
  "vscode": {
   "interpreter": {
    "hash": "972b3bf27e332e87b5379f2791f6ef9dfc79c71018c370b0d7423235e20fe4d7"
   }
  }
 },
 "nbformat": 4,
 "nbformat_minor": 0
}
